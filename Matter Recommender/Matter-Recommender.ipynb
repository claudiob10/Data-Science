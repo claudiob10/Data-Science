{
 "cells": [
  {
   "cell_type": "markdown",
   "metadata": {},
   "source": [
    "### Import Libraries"
   ]
  },
  {
   "cell_type": "code",
   "execution_count": 40,
   "metadata": {},
   "outputs": [],
   "source": [
    "import pandas as pd\n",
    "from pandas import Series, DataFrame\n",
    "import numpy as np\n",
    "from sklearn.feature_extraction.text import CountVectorizer\n",
    "from sklearn.feature_extraction.text import TfidfTransformer\n",
    "from sklearn.metrics.pairwise import linear_kernel"
   ]
  },
  {
   "cell_type": "markdown",
   "metadata": {},
   "source": [
    "### Read csv file and convert to Dataframe"
   ]
  },
  {
   "cell_type": "code",
   "execution_count": 31,
   "metadata": {},
   "outputs": [],
   "source": [
    "dataframe1 = pd.read_csv('MatterRecommenderList.csv')\n",
    "dataframe1= pd.DataFrame(dataframe1, columns=['matterID (2)', 'matterCode (2)', 'matterName (2)', 'matterPhaseName (2)', 'practiceAreaName (2)', 'cityName', 'MATTERCOMMENTS'])"
   ]
  },
  {
   "cell_type": "markdown",
   "metadata": {},
   "source": [
    "### Clean and replace null comments"
   ]
  },
  {
   "cell_type": "code",
   "execution_count": 34,
   "metadata": {},
   "outputs": [],
   "source": [
    "dataframe1['MATTERCOMMENTS'].fillna('No Comments', inplace=True)"
   ]
  },
  {
   "cell_type": "markdown",
   "metadata": {},
   "source": [
    "### Save datainput and look for the information of that mattercode"
   ]
  },
  {
   "cell_type": "code",
   "execution_count": 50,
   "metadata": {},
   "outputs": [],
   "source": [
    "datainput = \"00001-00015\"\n",
    "dataframe2 = dataframe1.loc[dataframe1['matterCode (2)'] == datainput ]"
   ]
  },
  {
   "cell_type": "code",
   "execution_count": 51,
   "metadata": {},
   "outputs": [],
   "source": [
    "index = dataframe1.index[dataframe1['matterCode (2)'] == datainput].tolist()[0]\n",
    "location=dataframe2.loc[index,'cityName']\n",
    "practicearea=dataframe2.loc[index,'practiceAreaName (2)']"
   ]
  },
  {
   "cell_type": "code",
   "execution_count": 52,
   "metadata": {},
   "outputs": [],
   "source": [
    "#filter data for location\n",
    "\n",
    "data3 = dataframe1.loc[dataframe1['cityName'] == location]\n",
    "    \n",
    "\"\"\"if number of register if less than 5, we use the information previous filtering\n",
    "if not we filter first by location, and then by practiceAreaName\n",
    "we need to have at least 5 register to analyse the MATTERCOMMENTS and make a recommendation\n",
    "\"\"\"    \n",
    "if (len(data3.index)<5):\n",
    "        \n",
    "    datafinal = dataframe1\n",
    "        \n",
    "else:\n",
    "        \n",
    "    data4 = data3.loc[data3['practiceAreaName (2)'] == practicearea]\n",
    "        \n",
    "    if (len(data4.index)<5):\n",
    "            \n",
    "        datafinal=data3\n",
    "            \n",
    "    else:\n",
    "            \n",
    "        datafinal=data4"
   ]
  },
  {
   "cell_type": "code",
   "execution_count": null,
   "metadata": {},
   "outputs": [],
   "source": []
  }
 ],
 "metadata": {},
 "nbformat": 4,
 "nbformat_minor": 2
}

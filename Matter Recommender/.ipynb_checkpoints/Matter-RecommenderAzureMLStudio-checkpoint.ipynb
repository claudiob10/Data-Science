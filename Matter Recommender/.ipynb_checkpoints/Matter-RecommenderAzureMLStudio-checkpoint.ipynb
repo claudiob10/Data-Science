{
 "cells": [
  {
   "cell_type": "markdown",
   "metadata": {},
   "source": [
    "## Script of the first python box"
   ]
  },
  {
   "cell_type": "code",
   "execution_count": 1,
   "metadata": {},
   "outputs": [],
   "source": [
    "import pandas as pd\n",
    "import numpy as np\n",
    "\n",
    "def azureml_main(dataframe1 = None, dataframe2 = None):\n",
    "    \n",
    "    #select enter data from the web service \n",
    "    data1 = dataframe1[['Col1']]\n",
    "   \n",
    "    #select data from the database after processing\n",
    "    data2 = dataframe2[['matterID (2)','matterCode (2)','matterName (2)','matterPhaseName (2)','cityName','practiceAreaName (2)','MATTERCOMMENTS']]\n",
    "\n",
    "    #select data from the MatterID entrance\n",
    "    datainput = data2.loc[data2['matterCode (2)'] == dataframe1['Col1'][0]]\n",
    "    \n",
    "    #save index number of datainput, location, and practiceAreaName\n",
    "    index = data2.index[data2['matterCode (2)'] == dataframe1['Col1'][0]].tolist()[0]\n",
    "    location=datainput.loc[index,'cityName']\n",
    "    practicearea=datainput.loc[index,'practiceAreaName (2)']\n",
    "    \n",
    "    #filter data for location\n",
    "    data3 = data2.loc[data2['cityName'] == location]\n",
    "    \n",
    "    #if number of register if less than 5, we use the information previous filtering\n",
    "    #if not we filter first by location, and then by practiceAreaName\n",
    "    #we need to have at least 5 register to analyse the MATTERCOMMENTS and make a recommendation\n",
    "    \n",
    "    if (len(data3.index)<5):\n",
    "        \n",
    "        datafinal = data2\n",
    "        \n",
    "    else:\n",
    "        \n",
    "        data4 = data3.loc[data3['practiceAreaName (2)'] == practicearea]\n",
    "        \n",
    "        if (len(data4.index)<5):\n",
    "            \n",
    "            datafinal=data3\n",
    "            \n",
    "        else:\n",
    "            \n",
    "            datafinal=data4\n",
    "            \n",
    "    return datafinal\n",
    "            \n",
    "      "
   ]
  },
  {
   "cell_type": "markdown",
   "metadata": {},
   "source": [
    "## Script of the second python box"
   ]
  },
  {
   "cell_type": "code",
   "execution_count": 2,
   "metadata": {},
   "outputs": [],
   "source": [
    "import pandas as pd\n",
    "from sklearn.feature_extraction.text import CountVectorizer\n",
    "from sklearn.feature_extraction.text import TfidfTransformer\n",
    "from sklearn.metrics.pairwise import linear_kernel\n",
    "\n",
    "def topNRecomendations(n, documentId, tfIdfMatrix):\n",
    "    cosine_similarities = linear_kernel(tfIdfMatrix[documentId,:],tfIdfMatrix).flatten()\n",
    "    related_docs_indices = cosine_similarities.argsort()[:-n-2:-1]\n",
    "    return related_docs_indices[1:]\n",
    "    \n",
    "def azureml_main(dataframe1 = None, dataframe2 = None):\n",
    "  \n",
    "    vectorizer = CountVectorizer()\n",
    "    vectorizer.fit_transform(dataframe2['MATTERCOMMENTS'])\n",
    "    spTermMatrix = vectorizer.transform(dataframe2['MATTERCOMMENTS'])\n",
    "    \n",
    "    tfIdf = TfidfTransformer()\n",
    "    tfIdfMatrix = tfIdf.fit(spTermMatrix)\n",
    "    tfIdfMatrix = tfIdf.transform(spTermMatrix)\n",
    "    \n",
    "    variable = dataframe2.index[dataframe2['matterCode (2)'] == dataframe1['Col1'][0]].tolist()[0]\n",
    "    matterIndex = variable\n",
    "    results = []\n",
    "    for i in range(5):\n",
    "        results.append(dataframe2['matterCode (2)'].loc[topNRecomendations(5, matterIndex, tfIdfMatrix)[i]])\n",
    "    return pd.DataFrame(results)\n",
    "  "
   ]
  },
  {
   "cell_type": "code",
   "execution_count": null,
   "metadata": {},
   "outputs": [],
   "source": []
  }
 ],
 "metadata": {
  "kernelspec": {
   "display_name": "Python 3",
   "language": "python",
   "name": "python3"
  },
  "language_info": {
   "codemirror_mode": {
    "name": "ipython",
    "version": 3
   },
   "file_extension": ".py",
   "mimetype": "text/x-python",
   "name": "python",
   "nbconvert_exporter": "python",
   "pygments_lexer": "ipython3",
   "version": "3.7.1"
  }
 },
 "nbformat": 4,
 "nbformat_minor": 2
}
